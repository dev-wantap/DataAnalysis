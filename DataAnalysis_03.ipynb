{
 "cells": [
  {
   "cell_type": "markdown",
   "metadata": {},
   "source": [
    "# 기온데이터를 이용한 데이터 분석"
   ]
  },
  {
   "cell_type": "code",
   "execution_count": 1,
   "metadata": {
    "scrolled": true
   },
   "outputs": [
    {
     "data": {
      "text/plain": [
       "<Figure size 640x480 with 1 Axes>"
      ]
     },
     "metadata": {},
     "output_type": "display_data"
    },
    {
     "data": {
      "text/plain": [
       "<function TextIOWrapper.close()>"
      ]
     },
     "execution_count": 1,
     "metadata": {},
     "output_type": "execute_result"
    }
   ],
   "source": [
    "import csv\n",
    "import matplotlib.pyplot as plt\n",
    "\n",
    "f = open('Data/SeoulTemp.csv', 'r', encoding = 'cp949')\n",
    "data = csv.reader(f, delimiter = ',')\n",
    "header = next(data)\n",
    "#header = ['날짜', '지점', '평균기온(°C)', '최저기 온(°C)', '최고기온(°C)']\n",
    "maxTemp = []\n",
    "minTemp = []\n",
    "\n",
    "for row in data:\n",
    "    if (int(row[0].split('-')[0]) >= 2010):\n",
    "        if (row[0].split('-')[1] == '09') and (row[0].split('-')[2] == '10'):\n",
    "            maxTemp.append(float(row[-1]))\n",
    "            minTemp.append(float(row[-2]))\n",
    "\n",
    "plt.plot(maxTemp, color = 'purple', linestyle = '-', marker = 'o')\n",
    "plt.plot(minTemp, color = 'r', linestyle = '-', marker = 'o')\n",
    "\n",
    "plt.show()\n",
    "f.close"
   ]
  },
  {
   "cell_type": "markdown",
   "metadata": {},
   "source": [
    "<br><br><br><br>"
   ]
  },
  {
   "cell_type": "markdown",
   "metadata": {},
   "source": [
    "## x축 눈금을 연도로 표시"
   ]
  },
  {
   "cell_type": "code",
   "execution_count": 2,
   "metadata": {},
   "outputs": [
    {
     "data": {
      "image/png": "[encoded data removed]",
      "text/plain": [
       "<Figure size 432x288 with 1 Axes>"
      ]
     },
     "metadata": {
      "needs_background": "light"
     },
     "output_type": "display_data"
    },
    {
     "data": {
      "text/plain": [
       "<function TextIOWrapper.close()>"
      ]
     },
     "execution_count": 2,
     "metadata": {},
     "output_type": "execute_result"
    }
   ],
   "source": [
    "import csv\n",
    "import matplotlib.pyplot as plt\n",
    "\n",
    "f = open('Data/SeoulTemp.csv', 'r', encoding = 'cp949')\n",
    "data = csv.reader(f, delimiter = ',')\n",
    "header = next(data)\n",
    "#header = ['날짜', '지점', '평균기온(°C)', '최저기 온(°C)', '최고기온(°C)']\n",
    "maxTemp = []\n",
    "minTemp = []\n",
    "year = []\n",
    "\n",
    "for row in data:\n",
    "    if (int(row[0].split('-')[0]) >= 2010):\n",
    "        if (row[0].split('-')[1] == '09') and (row[0].split('-')[2] == '10'):\n",
    "            year.append(int(row[0].split('-')[0]))\n",
    "            maxTemp.append(float(row[-1]))\n",
    "            minTemp.append(float(row[-2]))\n",
    "\n",
    "plt.plot(year, maxTemp, color = 'purple', linestyle = '-', marker = 'o')\n",
    "plt.plot(year, minTemp, color = 'r', linestyle = '-', marker = 'o')\n",
    "plt.xticks(year[0::2])\n",
    "plt.show()\n",
    "f.close"
   ]
  },
  {
   "cell_type": "markdown",
   "metadata": {},
   "source": [
    "<br><br><br>"
   ]
  },
  {
   "cell_type": "markdown",
   "metadata": {},
   "source": [
    "## 막대 그래프"
   ]
  },
  {
   "cell_type": "code",
   "execution_count": 3,
   "metadata": {},
   "outputs": [
    {
     "data": {
      "image/png": "[encoded data removed]",
      "text/plain": [
       "<Figure size 432x288 with 1 Axes>"
      ]
     },
     "metadata": {
      "needs_background": "light"
     },
     "output_type": "display_data"
    },
    {
     "data": {
      "text/plain": [
       "<function TextIOWrapper.close()>"
      ]
     },
     "execution_count": 3,
     "metadata": {},
     "output_type": "execute_result"
    }
   ],
   "source": [
    "import csv\n",
    "import matplotlib.pyplot as plt\n",
    "\n",
    "f = open('Data/SeoulTemp.csv', 'r', encoding = 'cp949')\n",
    "data = csv.reader(f, delimiter = ',')\n",
    "header = next(data)\n",
    "#header = ['날짜', '지점', '평균기온(°C)', '최저기 온(°C)', '최고기온(°C)']\n",
    "maxTemp = []\n",
    "year = []\n",
    "\n",
    "for row in data:\n",
    "    if (int(row[0].split('-')[0]) >= 2010):\n",
    "        if (row[0].split('-')[1] == '09') and (row[0].split('-')[2] == '10'):\n",
    "            year.append(int(row[0].split('-')[0]))\n",
    "            maxTemp.append(float(row[-1]))\n",
    "\n",
    "plt.bar(year, maxTemp, color = 'skyblue')\n",
    "plt.xticks(year[0::2])\n",
    "plt.show()\n",
    "\n",
    "f.close"
   ]
  },
  {
   "cell_type": "markdown",
   "metadata": {},
   "source": [
    "<br><br><br><br><br><br>"
   ]
  },
  {
   "cell_type": "markdown",
   "metadata": {},
   "source": [
    "## 1973~2019 매년 1월의 낮 최저/최고기온의 분포 - 히스토그램"
   ]
  },
  {
   "cell_type": "code",
   "execution_count": 4,
   "metadata": {},
   "outputs": [
    {
     "data": {
      "image/png": "[encoded data removed]",
      "text/plain": [
       "<Figure size 432x288 with 1 Axes>"
      ]
     },
     "metadata": {
      "needs_background": "light"
     },
     "output_type": "display_data"
    },
    {
     "data": {
      "text/plain": [
       "<function TextIOWrapper.close()>"
      ]
     },
     "execution_count": 4,
     "metadata": {},
     "output_type": "execute_result"
    }
   ],
   "source": [
    "import csv\n",
    "import matplotlib.pyplot as plt\n",
    "\n",
    "plt.rcParams[\"font.family\"] = 'AppleGothic'\n",
    "plt.rcParams['font.size'] = 12\n",
    "f = open('Data/SeoulTemp.csv', 'r', encoding = 'cp949')\n",
    "data = csv.reader(f, delimiter = ',')\n",
    "header = next(data)\n",
    "#header = ['날짜', '지점', '평균기온(°C)', '최저기 온(°C)', '최고기온(°C)']\n",
    "\n",
    "JanMaxTemp = []\n",
    "JanMinTemp = []\n",
    "year = []\n",
    "\n",
    "for row in data:\n",
    "    if (row[0].split('-')[1] == '01'):\n",
    "        JanMaxTemp.append(float(row[-1]))\n",
    "        JanMinTemp.append(float(row[-2]))\n",
    "\n",
    "plt.hist(JanMaxTemp, bins = 70, color = 'hotpink')\n",
    "plt.hist(JanMinTemp, bins = 70, color = 'skyblue')\n",
    "plt.xticks(year[0::2])\n",
    "plt.title(\"매년 1월의 낮 최저/최고기온의 분포 (1973~2019)\")\n",
    "plt.show()\n",
    "\n",
    "f.close"
   ]
  },
  {
   "cell_type": "markdown",
   "metadata": {},
   "source": [
    "<br><br><br><br>"
   ]
  },
  {
   "cell_type": "markdown",
   "metadata": {},
   "source": [
    "## 히스토그램 투명도 조절"
   ]
  },
  {
   "cell_type": "code",
   "execution_count": 5,
   "metadata": {},
   "outputs": [
    {
     "data": {
      "image/png": "[encoded data removed]",
      "text/plain": [
       "<Figure size 432x288 with 1 Axes>"
      ]
     },
     "metadata": {
      "needs_background": "light"
     },
     "output_type": "display_data"
    }
   ],
   "source": [
    "import csv\n",
    "import matplotlib.pyplot as plt\n",
    "\n",
    "plt.rcParams[\"font.family\"] = 'AppleGothic'\n",
    "plt.rcParams['font.size'] = 12\n",
    "f = open('Data/SeoulTemp.csv', 'r', encoding = 'cp949')\n",
    "data = csv.reader(f, delimiter = ',')\n",
    "header = next(data)\n",
    "#header = ['날짜', '지점', '평균기온(°C)', '최저기 온(°C)', '최고기온(°C)']\n",
    "\n",
    "JanMaxTemp = []\n",
    "JanMinTemp = []\n",
    "year = []\n",
    "\n",
    "for row in data:\n",
    "    if (row[0].split('-')[1] == '01'):\n",
    "        JanMaxTemp.append(float(row[-1]))\n",
    "        JanMinTemp.append(float(row[-2]))\n",
    "\n",
    "plt.hist(JanMaxTemp, bins = 70, color = 'hotpink', alpha = 0.7, label = 'highest')\n",
    "plt.hist(JanMinTemp, bins = 70, color = 'skyblue', alpha = 0.7, label = 'lowest')\n",
    "plt.xticks(year[0::2])\n",
    "plt.title(\"매년 1월의 낮 최저/최고기온의 분포 (1973~2019)\")\n",
    "plt.legend()\n",
    "plt.show()\n",
    "\n",
    "f.close()"
   ]
  },
  {
   "cell_type": "markdown",
   "metadata": {},
   "source": [
    "<br><br><br>"
   ]
  },
  {
   "cell_type": "markdown",
   "metadata": {},
   "source": [
    "## 예시\n",
    " - 09월 10일의 최고 기온과 최저 기온을 꺾은선 그래프로\n",
    " - 한글 제목과 범례를 표시"
   ]
  },
  {
   "cell_type": "code",
   "execution_count": 6,
   "metadata": {},
   "outputs": [
    {
     "data": {
      "image/png": "[encoded data removed]",
      "text/plain": [
       "<Figure size 432x288 with 1 Axes>"
      ]
     },
     "metadata": {
      "needs_background": "light"
     },
     "output_type": "display_data"
    },
    {
     "data": {
      "text/plain": [
       "<function TextIOWrapper.close()>"
      ]
     },
     "execution_count": 6,
     "metadata": {},
     "output_type": "execute_result"
    }
   ],
   "source": [
    "import csv\n",
    "import matplotlib.pyplot as plt\n",
    "\n",
    "plt.rcParams[\"font.family\"] = 'AppleGothic'\n",
    "plt.rcParams['font.size'] = 12\n",
    "\n",
    "f = open('Data/SeoulTemp.csv', 'r', encoding = 'cp949')\n",
    "data = csv.reader(f, delimiter = ',')\n",
    "header = next(data)\n",
    "#header = ['날짜', '지점', '평균기온(°C)', '최저기 온(°C)', '최고기온(°C)']\n",
    "maxTemp = []\n",
    "minTemp = []\n",
    "\n",
    "for row in data:\n",
    "    if (int(row[0].split('-')[0]) >= 2002):\n",
    "        if (row[0].split('-')[1] == '09') and (row[0].split('-')[2] == '10'):\n",
    "            maxTemp.append(float(row[-1]))\n",
    "            minTemp.append(float(row[-2]))\n",
    "\n",
    "plt.plot(maxTemp, color = 'r', linestyle = '-', marker = 'o', label = '최고 기온')\n",
    "plt.plot(minTemp, color = 'b', linestyle = '-', marker = 'o', label = '최저 기온')\n",
    "plt.title('9월 10일의 최고 기온과 최저 기온 (2002~2019)')\n",
    "plt.legend()\n",
    "plt.show()\n",
    "f.close"
   ]
  }
 ],
 "metadata": {
  "kernelspec": {
   "display_name": "Python 3",
   "language": "python",
   "name": "python3"
  },
  "language_info": {
   "codemirror_mode": {
    "name": "ipython",
    "version": 3
   },
   "file_extension": ".py",
   "mimetype": "text/x-python",
   "name": "python",
   "nbconvert_exporter": "python",
   "pygments_lexer": "ipython3",
   "version": "3.7.4"
  }
 },
 "nbformat": 4,
 "nbformat_minor": 2
}
